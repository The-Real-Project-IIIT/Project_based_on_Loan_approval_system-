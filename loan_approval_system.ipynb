# Importing Library
import pandas as pd
import numpy as np
from sklearn import preprocessing
from sklearn.preprocessing import LabelEncoder

# Reading the training dataset in a dataframe using Pandas
df = pd.read_csv("Training Dataset.csv")

# Reading the test dataset in a dataframe using Pandas
test = pd.read_csv("Test Dataset.csv")

# First 15 Rows of training Dataset

df.head(15)

# Store total number of observation in training dataset
df_length =len(df)

# Store total number of columns in testing data set
test_col = len(test.columns)

# Summary of numerical variables for training data set
df.describe()

# Get the unique values and their frequency of variable Property_Area

df['Property_Area'].value_counts()

# Box Plot for understanding the distributions and to observe the outliers.

%matplotlib inline

# Histogram of variable ApplicantIncome

df['ApplicantIncome'].hist()

# Box Plot for variable ApplicantIncome of training data set

df.boxplot(column='ApplicantIncome')

# Box Plot for variable ApplicantIncome by variable Education of training data set

df.boxplot(column='ApplicantIncome', by = 'Education')


# Histogram of variable LoanAmount

df['LoanAmount'].hist(bins=50)

# Box Plot for variable LoanAmount of training data set

df.boxplot(column='LoanAmount')

# Box Plot for variable LoanAmount by variable Gender of training data set

df.boxplot(column='LoanAmount', by = 'Gender')

# Loan approval rates in absolute numbers
loan_approval = df['Loan_Status'].value_counts()['Y']
print(loan_approval)











